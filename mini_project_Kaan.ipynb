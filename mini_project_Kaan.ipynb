{
 "cells": [
  {
   "cell_type": "code",
   "execution_count": 1,
   "id": "5a1b1647",
   "metadata": {},
   "outputs": [],
   "source": [
    "%load_ext autoreload\n",
    "%autoreload 2"
   ]
  },
  {
   "cell_type": "code",
   "execution_count": 4,
   "id": "0b1cc8eb",
   "metadata": {},
   "outputs": [],
   "source": [
    "import time \n",
    "import torch\n",
    "from torch import Tensor, empty\n",
    "from typing import Optional, Tuple, Union, List\n",
    "import helpers_functional as F\n",
    "from helpers_layer import *"
   ]
  },
  {
   "cell_type": "markdown",
   "id": "0f98137d",
   "metadata": {},
   "source": [
    "### Testing of Conv2d Layer"
   ]
  },
  {
   "cell_type": "code",
   "execution_count": 5,
   "id": "cab8ac30",
   "metadata": {},
   "outputs": [
    {
     "name": "stdout",
     "output_type": "stream",
     "text": [
      "Expected.shape: torch.Size([1000, 10, 18, 18])\n",
      "Actual.shape: torch.Size([1000, 10, 18, 18])\n",
      "\n",
      "Computation Time Comparison:\n",
      "\tPytorch Conv2d: \t 0.0362701416015625\n",
      "\tImplemented Conv2d: \t 0.038072824478149414\n",
      "\tConv2d: \t\t 0.036733150482177734\n"
     ]
    }
   ],
   "source": [
    "N = 1000\n",
    "in_channels = 4\n",
    "out_channels = 10\n",
    "kernel_size = (2, 3)\n",
    "padding = (2,3)\n",
    "stride = 2\n",
    "\n",
    "conv_pytorch = torch.nn.Conv2d(in_channels, out_channels, kernel_size, stride=stride, padding=padding)\n",
    "conv = Conv2d(in_channels, out_channels, kernel_size, stride=stride, padding=padding)\n",
    "x = torch.randn((N, in_channels, 32, 32))\n",
    "\n",
    "t1 = time.time()\n",
    "dummy = conv_pytorch(x)\n",
    "t2 = time.time()\n",
    "expected = conv(x)\n",
    "t3 = time.time()\n",
    "actual = F.conv2d(x, conv.weight, conv.bias, padding=padding, stride=stride)\n",
    "t4 = time.time()\n",
    "actual2 = F.conv2d(x, conv_pytorch.weight, conv_pytorch.bias, padding=padding, stride=stride)\n",
    "\n",
    "print(\"Expected.shape:\", expected.shape)\n",
    "print(\"Actual.shape:\", actual.shape)\n",
    "\n",
    "torch.testing.assert_allclose(actual, expected)\n",
    "torch.testing.assert_allclose(actual2, dummy)\n",
    "\n",
    "print(\"\\nComputation Time Comparison:\")\n",
    "print(\"\\tPytorch Conv2d: \\t\", t2-t1)\n",
    "print(\"\\tImplemented Conv2d: \\t\", t3-t2)\n",
    "print(\"\\tConv2d: \\t\\t\", t4-t3)"
   ]
  },
  {
   "cell_type": "markdown",
   "id": "ee045c82",
   "metadata": {},
   "source": [
    "### Testing of ConvTranspose2d Layer"
   ]
  },
  {
   "cell_type": "code",
   "execution_count": 6,
   "id": "0fc46d06",
   "metadata": {},
   "outputs": [
    {
     "name": "stdout",
     "output_type": "stream",
     "text": [
      "Expected.shape: torch.Size([100, 10, 37, 40])\n",
      "Actual.shape: torch.Size([100, 10, 37, 40])\n",
      "\n",
      "Computation Time Comparison:\n",
      "\tPytorch Conv2d: \t 0.1106710433959961\n",
      "\tImplemented Conv2d: \t 0.18213391304016113\n",
      "\tConv2d: \t\t 0.10601806640625\n"
     ]
    }
   ],
   "source": [
    "N = 100\n",
    "in_channels = 4\n",
    "out_channels = 10\n",
    "kernel_size = (6, 9)\n",
    "padding = (0,0)\n",
    "stride = 1\n",
    "\n",
    "convtranspose_pytorch = torch.nn.ConvTranspose2d(in_channels, out_channels, kernel_size, stride=stride, padding=padding)\n",
    "convtranspose = ConvTranspose2d(in_channels, out_channels, kernel_size, stride=stride, padding=padding)\n",
    "x = torch.randn((N, in_channels, 32, 32))\n",
    "\n",
    "t1 = time.time()\n",
    "dummy = convtranspose_pytorch(x)\n",
    "t2 = time.time()\n",
    "expected = convtranspose(x)\n",
    "t3 = time.time()\n",
    "actual = F.conv_transpose2d(x, convtranspose.weight, convtranspose.bias, padding=padding, stride=stride)\n",
    "t4 = time.time()\n",
    "actual2 = F.conv_transpose2d(x, convtranspose_pytorch.weight, convtranspose_pytorch.bias, padding=padding, stride=stride)\n",
    "\n",
    "print(\"Expected.shape:\", expected.shape)\n",
    "print(\"Actual.shape:\", actual.shape)\n",
    "\n",
    "torch.testing.assert_allclose(actual, expected)\n",
    "torch.testing.assert_allclose(actual2, dummy)\n",
    "\n",
    "print(\"\\nComputation Time Comparison:\")\n",
    "print(\"\\tPytorch Conv2d: \\t\", t2-t1)\n",
    "print(\"\\tImplemented Conv2d: \\t\", t3-t2)\n",
    "print(\"\\tConv2d: \\t\\t\", t4-t3)"
   ]
  },
  {
   "cell_type": "code",
   "execution_count": null,
   "id": "9ca3722d",
   "metadata": {},
   "outputs": [],
   "source": []
  }
 ],
 "metadata": {
  "kernelspec": {
   "display_name": "Python 3 (ipykernel)",
   "language": "python",
   "name": "python3"
  },
  "language_info": {
   "codemirror_mode": {
    "name": "ipython",
    "version": 3
   },
   "file_extension": ".py",
   "mimetype": "text/x-python",
   "name": "python",
   "nbconvert_exporter": "python",
   "pygments_lexer": "ipython3",
   "version": "3.8.8"
  }
 },
 "nbformat": 4,
 "nbformat_minor": 5
}
