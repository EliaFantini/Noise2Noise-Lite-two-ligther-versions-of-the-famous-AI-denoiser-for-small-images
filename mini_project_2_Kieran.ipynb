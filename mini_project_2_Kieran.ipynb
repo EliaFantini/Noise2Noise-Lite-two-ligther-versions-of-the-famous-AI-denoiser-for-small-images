{
 "cells": [
  {
   "cell_type": "code",
   "execution_count": 2,
   "id": "d5f64d38",
   "metadata": {},
   "outputs": [],
   "source": [
    "class Module(object):\n",
    "    \n",
    "     def forward(self,*input):\n",
    "        raise NotImplementedError\n",
    "    \n",
    "     def backward(self,*gradwrtoutput):\n",
    "        raise NotImplementedError\n",
    "    \n",
    "     def param(self):\n",
    "        return []"
   ]
  },
  {
   "cell_type": "code",
   "execution_count": 3,
   "id": "3868d7f0",
   "metadata": {},
   "outputs": [],
   "source": [
    "class Sequential(Module):\n",
    "    \n",
    "    def __init__(self, modules):\n",
    "        self.modules = modules\n",
    "        self.input = None\n",
    "    \n",
    "    def forward(self, input):\n",
    "        self.input = input\n",
    "        output = self.input\n",
    "        \n",
    "        for module in self.modules:\n",
    "            output = module.forward(output)\n",
    "        return output\n",
    "    \n",
    "    def backward(self,*gradwrtouput):\n",
    "        gradient = gradwrtouput\n",
    "        for module in reversed(self.modules):\n",
    "            gradient = module.backward(gradient)\n",
    "        self.input = None\n",
    "        return gradient\n",
    "    \n",
    "    def param(self):\n",
    "        params = []\n",
    "        for module in self.modules:\n",
    "            params.append(module.param())\n",
    "        return params\n",
    "            "
   ]
  },
  {
   "cell_type": "code",
   "execution_count": 4,
   "id": "a44146f4",
   "metadata": {},
   "outputs": [],
   "source": [
    "def Optimizer(object):\n",
    "    def step(self):\n",
    "        return NotImplementedError\n",
    "    \n",
    "    def zero_grad(self):\n",
    "        return NotImplementedError"
   ]
  },
  {
   "cell_type": "code",
   "execution_count": 1,
   "id": "94661872",
   "metadata": {},
   "outputs": [],
   "source": [
    "def SGD(Optimizer):\n",
    "    \n",
    "    def __init__(self,params,lr):\n",
    "        self.params = params\n",
    "        self.lr = lr\n",
    "        \n",
    "    def step(self):\n",
    "        for x, grad in self.params:\n",
    "            x.add_(-self.lr * grad) ## .add_() =??\n",
    "    \n",
    "    def zero_grad(self):\n",
    "        for x, grad in self.params:\n",
    "            grad = grad.zero_()  ## .zero_() ??"
   ]
  },
  {
   "cell_type": "code",
   "execution_count": 2,
   "id": "913048a8",
   "metadata": {},
   "outputs": [],
   "source": [
    "def MSE(Module):\n",
    "    \n",
    "    def forward(self,input,target):\n",
    "        self.input = input\n",
    "        self.target = target\n",
    "        return (self.input - self.target).pow(2).mean() ## .pow() and .mean() ??\n",
    "    \n",
    "    def backward(self,*gradwrtouput):\n",
    "        return 2*gradwrtouput*(self.input - self.target).div_(self.input.size())"
   ]
  },
  {
   "cell_type": "code",
   "execution_count": 3,
   "id": "668203f7",
   "metadata": {},
   "outputs": [],
   "source": [
    "def Sigmoid(Module):\n",
    "    \n",
    "    def forward(self,input):\n",
    "        self.input = input\n",
    "        self.sigmoid = 1./(1+(-self.input).exp())\n",
    "        return  self.sigmoid\n",
    "    \n",
    "    def backward(self,*gradwrtouput):\n",
    "        return gradwrtouput*self.sigmoid*(1-self.sigmoid)\n",
    "    "
   ]
  },
  {
   "cell_type": "code",
   "execution_count": 4,
   "id": "2bb20769",
   "metadata": {},
   "outputs": [],
   "source": [
    "def ReLU(Module):\n",
    "    def forward(self, input):\n",
    "        self.input = input\n",
    "        return (self.input>0.)*self.input\n",
    "    \n",
    "    def backward(self, *gradwrtouput):\n",
    "        return gradwrtouput*(self.input>=0.)"
   ]
  },
  {
   "cell_type": "code",
   "execution_count": null,
   "id": "a734070b",
   "metadata": {},
   "outputs": [],
   "source": []
  }
 ],
 "metadata": {
  "kernelspec": {
   "display_name": "Python 3 (ipykernel)",
   "language": "python",
   "name": "python3"
  },
  "language_info": {
   "codemirror_mode": {
    "name": "ipython",
    "version": 3
   },
   "file_extension": ".py",
   "mimetype": "text/x-python",
   "name": "python",
   "nbconvert_exporter": "python",
   "pygments_lexer": "ipython3",
   "version": "3.8.8"
  }
 },
 "nbformat": 4,
 "nbformat_minor": 5
}
